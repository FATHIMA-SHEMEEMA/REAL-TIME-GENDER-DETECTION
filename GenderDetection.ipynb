{
 "cells": [
  {
   "cell_type": "markdown",
   "metadata": {},
   "source": [
    "# REAL TIME GENDER DETECTION"
   ]
  },
  {
   "cell_type": "code",
   "execution_count": null,
   "metadata": {},
   "outputs": [],
   "source": [
    "#Gender detection is one of the popular computer vision applications.\n",
    "# When you use a camera to detect a person’s gender instead of detecting it on a picture, \n",
    "#it can be said to be a real-time gender detection system. "
   ]
  },
  {
   "cell_type": "code",
   "execution_count": null,
   "metadata": {},
   "outputs": [],
   "source": [
    "#To create a gender detection system using Python, we need to train a model with some high-level features of the face of human beings such as:\n",
    "\n",
    "#the distance between eyes, nose, and mouth \n",
    "#and measurements of different parts of the face of both the genders"
   ]
  },
  {
   "cell_type": "code",
   "execution_count": null,
   "metadata": {},
   "outputs": [],
   "source": [
    "# There are many libraries and frameworks in Python that can be used to create a real-time gender detection system. \n",
    "#Some of these libraries include Yolo, Tensorflow, OpenCV, and Cvlib.\n",
    "#So here I am going to use the Cvlib library in Python that can be used to detect the gender of a person."
   ]
  },
  {
   "cell_type": "code",
   "execution_count": null,
   "metadata": {},
   "outputs": [],
   "source": [
    "#Along with Cvlib, I will also be using the OpenCV library in Python so that we can detect a person’s gender using a webcam. \n",
    "#So here is how to install both libraries on your system using the pip command:\n",
    "\n",
    "#pip install opencv-python\n",
    "#pip install cvlib"
   ]
  },
  {
   "cell_type": "code",
   "execution_count": null,
   "metadata": {},
   "outputs": [],
   "source": []
  },
  {
   "cell_type": "code",
   "execution_count": 6,
   "metadata": {},
   "outputs": [],
   "source": [
    "import cvlib as cv\n",
    "import cv2\n",
    "import numpy as np"
   ]
  },
  {
   "cell_type": "code",
   "execution_count": 7,
   "metadata": {},
   "outputs": [],
   "source": [
    "webcam = cv2.VideoCapture(0)\n",
    "    \n",
    "padding = 20\n",
    "while webcam.isOpened():\n",
    "    status, frame = webcam.read()\n",
    "    face, confidence = cv.detect_face(frame)\n",
    "    for idx, f in enumerate(face):        \n",
    "        (startX,startY) = max(0, f[0]-padding), max(0, f[1]-padding)\n",
    "        (endX,endY) = min(frame.shape[1]-1, f[2]+padding), min(frame.shape[0]-1, f[3]+padding)\n",
    "        cv2.rectangle(frame, (startX,startY), (endX,endY), (0,255,0), 2)\n",
    "        face_crop = np.copy(frame[startY:endY, startX:endX]) \n",
    "        (label, confidence) = cv.detect_gender(face_crop)\n",
    "        idx = np.argmax(confidence)\n",
    "        label = label[idx]\n",
    "        label = \"{}: {:.2f}%\".format(label, confidence[idx] * 100)\n",
    "        Y = startY - 10 if startY - 10 > 10 else startY + 10\n",
    "        cv2.putText(frame, label, (startX,Y), cv2.FONT_HERSHEY_SIMPLEX, 0.7,\n",
    "                    (0,255,0), 2)\n",
    "    cv2.imshow(\"Real-time gender detection\", frame)\n",
    "    # press \"s\" to stop\n",
    "    if cv2.waitKey(1) & 0xFF == ord('s'):\n",
    "        break\n",
    "webcam.release()\n",
    "cv2.destroyAllWindows()        "
   ]
  },
  {
   "cell_type": "code",
   "execution_count": null,
   "metadata": {},
   "outputs": [],
   "source": [
    "#Once the above code starts executing, it will open your webcam and detect your gender as shown below.\n",
    "# If you want to stop this program from running, just press “s” and it will stop your program from running."
   ]
  },
  {
   "cell_type": "code",
   "execution_count": null,
   "metadata": {},
   "outputs": [],
   "source": [
    "#So this is how you can build a gender detection system by using the Python programming language.\n",
    "# Gender detection is one of the popular computer vision applications. When you use a camera to detect a person’s gender \n",
    "#instead of detecting it on a picture, it can be said to be a realtime gender detection system."
   ]
  },
  {
   "cell_type": "code",
   "execution_count": null,
   "metadata": {},
   "outputs": [],
   "source": []
  },
  {
   "cell_type": "code",
   "execution_count": null,
   "metadata": {},
   "outputs": [],
   "source": []
  },
  {
   "cell_type": "code",
   "execution_count": null,
   "metadata": {},
   "outputs": [],
   "source": []
  },
  {
   "cell_type": "code",
   "execution_count": null,
   "metadata": {},
   "outputs": [],
   "source": []
  }
 ],
 "metadata": {
  "kernelspec": {
   "display_name": "Python 3",
   "language": "python",
   "name": "python3"
  },
  "language_info": {
   "codemirror_mode": {
    "name": "ipython",
    "version": 3
   },
   "file_extension": ".py",
   "mimetype": "text/x-python",
   "name": "python",
   "nbconvert_exporter": "python",
   "pygments_lexer": "ipython3",
   "version": "3.8.5"
  }
 },
 "nbformat": 4,
 "nbformat_minor": 4
}
